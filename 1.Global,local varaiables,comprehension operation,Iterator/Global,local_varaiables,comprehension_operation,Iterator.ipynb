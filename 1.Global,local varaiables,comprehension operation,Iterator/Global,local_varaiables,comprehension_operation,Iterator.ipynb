{
  "nbformat": 4,
  "nbformat_minor": 0,
  "metadata": {
    "colab": {
      "provenance": []
    },
    "kernelspec": {
      "name": "python3",
      "display_name": "Python 3"
    },
    "language_info": {
      "name": "python"
    }
  },
  "cells": [
    {
      "cell_type": "markdown",
      "source": [
        "# **Topics**\n",
        "\n",
        "1.   **Global and Local variable**\n",
        "2.   **Comprehension operation** : When you want your output as a list. So that when all the code is written inside a square bracket.\n",
        "\n",
        "3.  **Iterator**\n",
        "\n",
        "\n"
      ],
      "metadata": {
        "id": "Y12uS5RbE1hz"
      }
    },
    {
      "cell_type": "markdown",
      "source": [
        "# **1. Global and Local variable**"
      ],
      "metadata": {
        "id": "6h9sOqYOE8XZ"
      }
    },
    {
      "cell_type": "code",
      "source": [
        "c = 10 #Global varaiable\n",
        "def test1(c,d):\n",
        "  c = 5  #Local varaiable\n",
        "  return c * d\n",
        "\n",
        "test1(c,50)"
      ],
      "metadata": {
        "colab": {
          "base_uri": "https://localhost:8080/"
        },
        "id": "sqqTNJh9E-HO",
        "outputId": "4239d8af-184f-4cc7-cfa4-d596ab89cf8d"
      },
      "execution_count": 2,
      "outputs": [
        {
          "output_type": "execute_result",
          "data": {
            "text/plain": [
              "250"
            ]
          },
          "metadata": {},
          "execution_count": 2
        }
      ]
    },
    {
      "cell_type": "markdown",
      "source": [
        "# **2. Comprehension operation**"
      ],
      "metadata": {
        "id": "xe5_sR4vHdMR"
      }
    },
    {
      "cell_type": "code",
      "source": [
        "#list\n",
        "#Return a list by adding two to the current list\n",
        "\n",
        "l = [1, 2, 3, 4, 5]\n",
        "\n",
        "[i+2 for i in l]"
      ],
      "metadata": {
        "colab": {
          "base_uri": "https://localhost:8080/"
        },
        "id": "XCkDYCc9HnCG",
        "outputId": "d12c8de0-8fa1-467f-deb9-92bcd58ed45d"
      },
      "execution_count": 3,
      "outputs": [
        {
          "output_type": "execute_result",
          "data": {
            "text/plain": [
              "[3, 4, 5, 6, 7]"
            ]
          },
          "metadata": {},
          "execution_count": 3
        }
      ]
    },
    {
      "cell_type": "code",
      "source": [
        "#Dictonary\n",
        "#Return a dic with a number as key and its cube as the value\n",
        "\n",
        "{ i:i**3 for i in range(1,6)}"
      ],
      "metadata": {
        "colab": {
          "base_uri": "https://localhost:8080/"
        },
        "id": "P21zCgfKH01d",
        "outputId": "96ad4350-1ad0-48b2-c540-670f65c29805"
      },
      "execution_count": 4,
      "outputs": [
        {
          "output_type": "execute_result",
          "data": {
            "text/plain": [
              "{1: 1, 2: 8, 3: 27, 4: 64, 5: 125}"
            ]
          },
          "metadata": {},
          "execution_count": 4
        }
      ]
    },
    {
      "cell_type": "code",
      "source": [
        "#Tuble\n",
        "(i for i in range(10))"
      ],
      "metadata": {
        "colab": {
          "base_uri": "https://localhost:8080/"
        },
        "id": "OfaQ_RfrITrU",
        "outputId": "d2b7c122-eaea-43c2-88a1-a0cc93368a1e"
      },
      "execution_count": 5,
      "outputs": [
        {
          "output_type": "execute_result",
          "data": {
            "text/plain": [
              "<generator object <genexpr> at 0x7f5cafe30f90>"
            ]
          },
          "metadata": {},
          "execution_count": 5
        }
      ]
    },
    {
      "cell_type": "code",
      "source": [
        "tuple(i for i in range(10))"
      ],
      "metadata": {
        "colab": {
          "base_uri": "https://localhost:8080/"
        },
        "id": "gFFKrxwsIb2C",
        "outputId": "4fddd4cb-25ba-4d6f-8477-0a59705439af"
      },
      "execution_count": 6,
      "outputs": [
        {
          "output_type": "execute_result",
          "data": {
            "text/plain": [
              "(0, 1, 2, 3, 4, 5, 6, 7, 8, 9)"
            ]
          },
          "metadata": {},
          "execution_count": 6
        }
      ]
    },
    {
      "cell_type": "markdown",
      "source": [
        "# **3. Iterator**"
      ],
      "metadata": {
        "id": "0x6-0vpcLcbO"
      }
    },
    {
      "cell_type": "markdown",
      "source": [
        "> **Iterable :**String is an iterable object while integer are not. If an object is holding a value with the help of a indexes and if we can access each value one by one with the help of indexes, that kind of values is called Iterable.\n",
        "\n",
        ">**Iterator :** Only after converting the iterables to iterator we can access each element using next(). We can only convert to Iterator if the element is Iterable. "
      ],
      "metadata": {
        "id": "PPbBuD1CIlme"
      }
    },
    {
      "cell_type": "markdown",
      "source": [
        "**All Iterators are Iterable.**"
      ],
      "metadata": {
        "id": "PM3mvuowOK9w"
      }
    },
    {
      "cell_type": "markdown",
      "source": [
        "**How for loop works**\n",
        "\n",
        "```python\n",
        "s = \"jerry\"\n",
        "for i in s:\n",
        "  print(i)\n",
        "```\n",
        "\n",
        "\n",
        "\n",
        "1.   Convert `s (i.e jerry)` into iterator. Using `iter()`\n",
        "2.   Then use next() to get all next elements.\n",
        "\n"
      ],
      "metadata": {
        "id": "1YLUUecIKXGY"
      }
    },
    {
      "cell_type": "code",
      "source": [
        "s = \"jerry\"\n",
        "print(type(s))"
      ],
      "metadata": {
        "colab": {
          "base_uri": "https://localhost:8080/"
        },
        "id": "QQROWg3dK_E-",
        "outputId": "7622b4ce-897f-4ef1-9e4e-b21284d6c650"
      },
      "execution_count": 7,
      "outputs": [
        {
          "output_type": "stream",
          "name": "stdout",
          "text": [
            "<class 'str'>\n"
          ]
        }
      ]
    },
    {
      "cell_type": "code",
      "source": [
        "#changing to iterator\n",
        "b = iter(s)\n",
        "print(type(b))"
      ],
      "metadata": {
        "colab": {
          "base_uri": "https://localhost:8080/"
        },
        "id": "uvlCOrT9LDNR",
        "outputId": "d3bb1330-b747-4a51-a829-3cc6acc2807e"
      },
      "execution_count": 8,
      "outputs": [
        {
          "output_type": "stream",
          "name": "stdout",
          "text": [
            "<class 'str_iterator'>\n"
          ]
        }
      ]
    },
    {
      "cell_type": "code",
      "source": [
        "next(b)"
      ],
      "metadata": {
        "colab": {
          "base_uri": "https://localhost:8080/",
          "height": 35
        },
        "id": "_CVUa8L2LPA-",
        "outputId": "22e8539b-a2ca-41cd-ab5a-f49cf36c9746"
      },
      "execution_count": 9,
      "outputs": [
        {
          "output_type": "execute_result",
          "data": {
            "text/plain": [
              "'j'"
            ],
            "application/vnd.google.colaboratory.intrinsic+json": {
              "type": "string"
            }
          },
          "metadata": {},
          "execution_count": 9
        }
      ]
    },
    {
      "cell_type": "code",
      "source": [
        "next(b)"
      ],
      "metadata": {
        "colab": {
          "base_uri": "https://localhost:8080/",
          "height": 35
        },
        "id": "LwEXrfpGLRSA",
        "outputId": "79de44d8-02e3-4a9f-c9ba-c1e5a9a48c38"
      },
      "execution_count": 10,
      "outputs": [
        {
          "output_type": "execute_result",
          "data": {
            "text/plain": [
              "'e'"
            ],
            "application/vnd.google.colaboratory.intrinsic+json": {
              "type": "string"
            }
          },
          "metadata": {},
          "execution_count": 10
        }
      ]
    },
    {
      "cell_type": "code",
      "source": [
        "next(b)"
      ],
      "metadata": {
        "colab": {
          "base_uri": "https://localhost:8080/",
          "height": 35
        },
        "id": "o7zsowxMLTSc",
        "outputId": "a0e7f035-9fa6-4b3b-ef92-f87c3dcff6c2"
      },
      "execution_count": 11,
      "outputs": [
        {
          "output_type": "execute_result",
          "data": {
            "text/plain": [
              "'r'"
            ],
            "application/vnd.google.colaboratory.intrinsic+json": {
              "type": "string"
            }
          },
          "metadata": {},
          "execution_count": 11
        }
      ]
    },
    {
      "cell_type": "code",
      "source": [
        "next(b)"
      ],
      "metadata": {
        "colab": {
          "base_uri": "https://localhost:8080/",
          "height": 35
        },
        "id": "jNtl0u28LUdI",
        "outputId": "fdc538b1-3400-465b-f9ac-d5bdb768d27a"
      },
      "execution_count": 12,
      "outputs": [
        {
          "output_type": "execute_result",
          "data": {
            "text/plain": [
              "'r'"
            ],
            "application/vnd.google.colaboratory.intrinsic+json": {
              "type": "string"
            }
          },
          "metadata": {},
          "execution_count": 12
        }
      ]
    },
    {
      "cell_type": "code",
      "source": [
        "next(b)"
      ],
      "metadata": {
        "colab": {
          "base_uri": "https://localhost:8080/",
          "height": 35
        },
        "id": "Uz-nnTyeLVnF",
        "outputId": "f949e03c-2a38-42df-819a-2ec2c9f28db8"
      },
      "execution_count": 13,
      "outputs": [
        {
          "output_type": "execute_result",
          "data": {
            "text/plain": [
              "'y'"
            ],
            "application/vnd.google.colaboratory.intrinsic+json": {
              "type": "string"
            }
          },
          "metadata": {},
          "execution_count": 13
        }
      ]
    },
    {
      "cell_type": "markdown",
      "source": [
        "**List**"
      ],
      "metadata": {
        "id": "rSBKnliBLsqg"
      }
    },
    {
      "cell_type": "code",
      "source": [
        "l = [1,2,3]\n",
        "j = iter(l)"
      ],
      "metadata": {
        "id": "KOJ6k8NGL2q4"
      },
      "execution_count": 15,
      "outputs": []
    },
    {
      "cell_type": "code",
      "source": [
        "next(j)"
      ],
      "metadata": {
        "colab": {
          "base_uri": "https://localhost:8080/"
        },
        "id": "RFvLfdyvL7NS",
        "outputId": "2570a813-28bc-412b-9868-e71bb99e8946"
      },
      "execution_count": 16,
      "outputs": [
        {
          "output_type": "execute_result",
          "data": {
            "text/plain": [
              "1"
            ]
          },
          "metadata": {},
          "execution_count": 16
        }
      ]
    },
    {
      "cell_type": "code",
      "source": [
        "next(j)"
      ],
      "metadata": {
        "colab": {
          "base_uri": "https://localhost:8080/"
        },
        "id": "Uz6wyyqzL9S5",
        "outputId": "2294abbb-d576-4582-9412-8109738efe74"
      },
      "execution_count": 17,
      "outputs": [
        {
          "output_type": "execute_result",
          "data": {
            "text/plain": [
              "2"
            ]
          },
          "metadata": {},
          "execution_count": 17
        }
      ]
    },
    {
      "cell_type": "code",
      "source": [
        "next(j)"
      ],
      "metadata": {
        "colab": {
          "base_uri": "https://localhost:8080/"
        },
        "id": "ntwfKVfGL-LL",
        "outputId": "298f38cb-424f-4da6-ffff-be19f3ffe4bd"
      },
      "execution_count": 18,
      "outputs": [
        {
          "output_type": "execute_result",
          "data": {
            "text/plain": [
              "3"
            ]
          },
          "metadata": {},
          "execution_count": 18
        }
      ]
    }
  ]
}